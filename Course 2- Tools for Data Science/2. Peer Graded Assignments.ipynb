{
 "cells": [
  {
   "cell_type": "markdown",
   "id": "41ced3f0-7425-428d-b350-00aae3929fc0",
   "metadata": {},
   "source": [
    "<h1>My Jupyter Notebook on IBM Watson Studio<h1>"
   ]
  },
  {
   "cell_type": "markdown",
   "id": "3b76a1f8-ef64-410e-9b60-fcb7cd327a1e",
   "metadata": {},
   "source": [
    "**Abir Dey**"
   ]
  },
  {
   "cell_type": "markdown",
   "id": "e35a1748-b192-4fcf-83b4-52dcd618b9f5",
   "metadata": {},
   "source": [
    "*I am interested in data science because I like working with data and like to discover hidden insights from the data*\n"
   ]
  },
  {
   "cell_type": "markdown",
   "id": "a347d681-474b-47ba-a6ca-9cfe22a112d9",
   "metadata": {},
   "source": [
    "<h3>Printing text and doing simple division using Python<h3>"
   ]
  },
  {
   "cell_type": "code",
   "execution_count": 5,
   "id": "aa3d9b7d-489c-4e05-be2a-2e838742378a",
   "metadata": {},
   "outputs": [
    {
     "name": "stdout",
     "output_type": "stream",
     "text": [
      "Hello World\n"
     ]
    },
    {
     "data": {
      "text/plain": [
       "5.0"
      ]
     },
     "execution_count": 5,
     "metadata": {},
     "output_type": "execute_result"
    }
   ],
   "source": [
    "print(\"Hello World\")\n",
    "10/2"
   ]
  },
  {
   "cell_type": "markdown",
   "id": "c9020f6b-7599-41b2-b0f6-2881474e8fb0",
   "metadata": {},
   "source": [
    "Hyperlink\n",
    "\n",
    "<a href=\"www.ibm.com\">Link to IBM website</a>\n",
    "\n",
    "Bulleted List\n",
    "- Python\n",
    "- R\n",
    "- Jupyter Lab\n",
    "\n",
    "Numbered List:\n",
    "<ol>\n",
    "<li>Python</li>\n",
    "<li>R</li>\n",
    "<li>Jupyter Lab</li>\n",
    "</ol>"
   ]
  }
 ],
 "metadata": {
  "kernelspec": {
   "display_name": "Python",
   "language": "python",
   "name": "conda-env-python-py"
  },
  "language_info": {
   "codemirror_mode": {
    "name": "ipython",
    "version": 3
   },
   "file_extension": ".py",
   "mimetype": "text/x-python",
   "name": "python",
   "nbconvert_exporter": "python",
   "pygments_lexer": "ipython3",
   "version": "3.7.12"
  }
 },
 "nbformat": 4,
 "nbformat_minor": 5
}
